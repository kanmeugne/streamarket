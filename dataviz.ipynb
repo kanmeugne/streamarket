{
 "cells": [
  {
   "cell_type": "markdown",
   "id": "0e693ae3-4fd9-4e09-ab69-0aa3f82152f8",
   "metadata": {},
   "source": [
    "# Etude du *transfert de commentateurs*"
   ]
  },
  {
   "cell_type": "markdown",
   "id": "e98aa057-bc63-495d-8106-0383a88f9cec",
   "metadata": {},
   "source": [
    "**Laboratoire MNHS, Epitech, Paris**\n",
    "\n",
    "## Contexte\n",
    "Lors de la soirée Pixel war, plusieurs streamers ont organisé des directs pour commenter l'évènement. Nous avons extraits les commentaires et étudier le phénomène de transfert de commentateurs, i.e. le mouvement des commentateurs d'un chat à un autre. Les résultats de l'étude permettent d'évaluer l'attractivité des streamers."
   ]
  },
  {
   "cell_type": "code",
   "execution_count": 13,
   "id": "64a65fca-5e24-4a1d-a3d2-04be22c75e50",
   "metadata": {},
   "outputs": [],
   "source": [
    "from prepare import build_dataset"
   ]
  },
  {
   "cell_type": "code",
   "execution_count": 21,
   "id": "41d7ddd6-b505-47a6-a069-521a9468f1f7",
   "metadata": {},
   "outputs": [],
   "source": [
    "dataset = build_dataset(rootdir='./data/RPZ-mariage')"
   ]
  },
  {
   "cell_type": "code",
   "execution_count": 68,
   "id": "978b2f47-bac8-468d-89bc-16de6347f835",
   "metadata": {},
   "outputs": [
    {
     "data": {
      "text/plain": [
       "Lamatrak  Lamatrak         0\n",
       "          Ultia           66\n",
       "          KiddyFR         17\n",
       "          Drakony         37\n",
       "          MoMaN           20\n",
       "                          ..\n",
       "Hexakil   Berlu            5\n",
       "          BagheraJones     9\n",
       "          Ponce           14\n",
       "          Tonton           8\n",
       "          Hexakil          0\n",
       "Length: 289, dtype: int64"
      ]
     },
     "execution_count": 68,
     "metadata": {},
     "output_type": "execute_result"
    }
   ],
   "source": [
    "import pandas as pd\n",
    "streamerz = dataset.streamer.unique()\n",
    "d0 = dataset.drop(['cdate', 'ctimestamp'], axis=1)\n",
    "heatmap_data = pd.Series(0, index=pd.MultiIndex.from_product([streamerz, streamerz]))\n",
    "for s in streamerz:\n",
    "    d1 = d0[dataset.streamer.str.contains(s)]\n",
    "    d2 = d0[~dataset.streamer.str.contains(s)]\n",
    "    d3 = pd.merge(d1, d2, on='commentator', suffixes=['_left', '_right'])\n",
    "    d4 = d3.groupby(['streamer_left', 'streamer_right']).apply(lambda x: x.commentator.unique().size)\n",
    "    heatmap_data[d4.index] = d4\n",
    "heatmap_data"
   ]
  },
  {
   "cell_type": "markdown",
   "id": "401ca0ae-54cd-4387-8338-4e9ad1f23207",
   "metadata": {},
   "source": [
    "## Graphicx : HeatMap des contributions des streamers\n",
    "\n",
    "En x et en y, les streamers. La valeur de (x, y) correspond au nombre de commentaateurs qui ont commenté à la fois sur x et y.\n",
    "\n",
    "**Exemple**: ('Lamatrak', 'Ultia') = 66 signifie que 66 commentateurs ont été à la fois sur les chats des streamers 'Lamatrak' et 'Ultia'."
   ]
  },
  {
   "cell_type": "markdown",
   "id": "229d7913-a2d4-4b31-b55b-a57704083e66",
   "metadata": {},
   "source": [
    "streamerz"
   ]
  },
  {
   "cell_type": "code",
   "execution_count": 115,
   "id": "4f1d94a3-db37-4db1-8772-2c9091d6aa28",
   "metadata": {},
   "outputs": [
    {
     "data": {
      "application/vnd.plotly.v1+json": {
       "config": {
        "plotlyServerURL": "https://plot.ly"
       },
       "data": [
        {
         "colorbar": {
          "orientation": "h"
         },
         "colorscale": [
          [
           0,
           "#440154"
          ],
          [
           0.1111111111111111,
           "#482878"
          ],
          [
           0.2222222222222222,
           "#3e4989"
          ],
          [
           0.3333333333333333,
           "#31688e"
          ],
          [
           0.4444444444444444,
           "#26828e"
          ],
          [
           0.5555555555555556,
           "#1f9e89"
          ],
          [
           0.6666666666666666,
           "#35b779"
          ],
          [
           0.7777777777777778,
           "#6ece58"
          ],
          [
           0.8888888888888888,
           "#b5de2b"
          ],
          [
           1,
           "#fde725"
          ]
         ],
         "hovertemplate": "<i>from: </i>%{x}<br><i>to: </i> %{y}<br><i>commentators:</i> %{z}<extra></extra>",
         "type": "heatmap",
         "x": [
          "Lamatrak",
          "Ultia",
          "KiddyFR",
          "Drakony",
          "MoMaN",
          "AntoineDaniel",
          "Hermanel",
          "jungo_live",
          "Diabalzane",
          "hortyunderscore",
          "Alexclick",
          "KAOsvmd",
          "Berlu",
          "BagheraJones",
          "Ponce",
          "Tonton",
          "Hexakil"
         ],
         "y": [
          "Lamatrak",
          "Ultia",
          "KiddyFR",
          "Drakony",
          "MoMaN",
          "AntoineDaniel",
          "Hermanel",
          "jungo_live",
          "Diabalzane",
          "hortyunderscore",
          "Alexclick",
          "KAOsvmd",
          "Berlu",
          "BagheraJones",
          "Ponce",
          "Tonton",
          "Hexakil"
         ],
         "z": [
          [
           0,
           66,
           17,
           37,
           20,
           183,
           6,
           3,
           10,
           18,
           37,
           0,
           18,
           79,
           411,
           19,
           7
          ],
          [
           66,
           0,
           13,
           65,
           32,
           234,
           12,
           4,
           23,
           48,
           80,
           2,
           36,
           141,
           303,
           25,
           3
          ],
          [
           17,
           13,
           0,
           6,
           5,
           61,
           2,
           1,
           6,
           11,
           8,
           0,
           7,
           27,
           39,
           6,
           6
          ],
          [
           37,
           65,
           6,
           0,
           65,
           166,
           54,
           19,
           42,
           31,
           492,
           6,
           93,
           148,
           200,
           118,
           11
          ],
          [
           20,
           32,
           5,
           65,
           0,
           120,
           36,
           17,
           41,
           24,
           104,
           1,
           160,
           74,
           99,
           40,
           10
          ],
          [
           183,
           234,
           61,
           166,
           120,
           0,
           46,
           15,
           67,
           217,
           278,
           6,
           194,
           791,
           1316,
           117,
           20
          ],
          [
           6,
           12,
           2,
           54,
           36,
           46,
           0,
           21,
           17,
           5,
           82,
           1,
           63,
           20,
           30,
           40,
           5
          ],
          [
           3,
           4,
           1,
           19,
           17,
           15,
           21,
           0,
           13,
           4,
           17,
           0,
           41,
           11,
           12,
           4,
           2
          ],
          [
           10,
           23,
           6,
           42,
           41,
           67,
           17,
           13,
           0,
           26,
           42,
           1,
           119,
           50,
           51,
           19,
           5
          ],
          [
           18,
           48,
           11,
           31,
           24,
           217,
           5,
           4,
           26,
           0,
           40,
           2,
           32,
           317,
           136,
           12,
           7
          ],
          [
           37,
           80,
           8,
           492,
           104,
           278,
           82,
           17,
           42,
           40,
           0,
           4,
           155,
           159,
           346,
           177,
           6
          ],
          [
           0,
           2,
           0,
           6,
           1,
           6,
           1,
           0,
           1,
           2,
           4,
           0,
           0,
           3,
           3,
           9,
           1
          ],
          [
           18,
           36,
           7,
           93,
           160,
           194,
           63,
           41,
           119,
           32,
           155,
           0,
           0,
           95,
           174,
           70,
           5
          ],
          [
           79,
           141,
           27,
           148,
           74,
           791,
           20,
           11,
           50,
           317,
           159,
           3,
           95,
           0,
           493,
           58,
           9
          ],
          [
           411,
           303,
           39,
           200,
           99,
           1316,
           30,
           12,
           51,
           136,
           346,
           3,
           174,
           493,
           0,
           168,
           14
          ],
          [
           19,
           25,
           6,
           118,
           40,
           117,
           40,
           4,
           19,
           12,
           177,
           9,
           70,
           58,
           168,
           0,
           8
          ],
          [
           7,
           3,
           6,
           11,
           10,
           20,
           5,
           2,
           5,
           7,
           6,
           1,
           5,
           9,
           14,
           8,
           0
          ]
         ]
        }
       ],
       "layout": {
        "height": 700,
        "hoverlabel": {
         "align": "left"
        },
        "template": {
         "data": {
          "bar": [
           {
            "error_x": {
             "color": "#2a3f5f"
            },
            "error_y": {
             "color": "#2a3f5f"
            },
            "marker": {
             "line": {
              "color": "#E5ECF6",
              "width": 0.5
             },
             "pattern": {
              "fillmode": "overlay",
              "size": 10,
              "solidity": 0.2
             }
            },
            "type": "bar"
           }
          ],
          "barpolar": [
           {
            "marker": {
             "line": {
              "color": "#E5ECF6",
              "width": 0.5
             },
             "pattern": {
              "fillmode": "overlay",
              "size": 10,
              "solidity": 0.2
             }
            },
            "type": "barpolar"
           }
          ],
          "carpet": [
           {
            "aaxis": {
             "endlinecolor": "#2a3f5f",
             "gridcolor": "white",
             "linecolor": "white",
             "minorgridcolor": "white",
             "startlinecolor": "#2a3f5f"
            },
            "baxis": {
             "endlinecolor": "#2a3f5f",
             "gridcolor": "white",
             "linecolor": "white",
             "minorgridcolor": "white",
             "startlinecolor": "#2a3f5f"
            },
            "type": "carpet"
           }
          ],
          "choropleth": [
           {
            "colorbar": {
             "outlinewidth": 0,
             "ticks": ""
            },
            "type": "choropleth"
           }
          ],
          "contour": [
           {
            "colorbar": {
             "outlinewidth": 0,
             "ticks": ""
            },
            "colorscale": [
             [
              0,
              "#0d0887"
             ],
             [
              0.1111111111111111,
              "#46039f"
             ],
             [
              0.2222222222222222,
              "#7201a8"
             ],
             [
              0.3333333333333333,
              "#9c179e"
             ],
             [
              0.4444444444444444,
              "#bd3786"
             ],
             [
              0.5555555555555556,
              "#d8576b"
             ],
             [
              0.6666666666666666,
              "#ed7953"
             ],
             [
              0.7777777777777778,
              "#fb9f3a"
             ],
             [
              0.8888888888888888,
              "#fdca26"
             ],
             [
              1,
              "#f0f921"
             ]
            ],
            "type": "contour"
           }
          ],
          "contourcarpet": [
           {
            "colorbar": {
             "outlinewidth": 0,
             "ticks": ""
            },
            "type": "contourcarpet"
           }
          ],
          "heatmap": [
           {
            "colorbar": {
             "outlinewidth": 0,
             "ticks": ""
            },
            "colorscale": [
             [
              0,
              "#0d0887"
             ],
             [
              0.1111111111111111,
              "#46039f"
             ],
             [
              0.2222222222222222,
              "#7201a8"
             ],
             [
              0.3333333333333333,
              "#9c179e"
             ],
             [
              0.4444444444444444,
              "#bd3786"
             ],
             [
              0.5555555555555556,
              "#d8576b"
             ],
             [
              0.6666666666666666,
              "#ed7953"
             ],
             [
              0.7777777777777778,
              "#fb9f3a"
             ],
             [
              0.8888888888888888,
              "#fdca26"
             ],
             [
              1,
              "#f0f921"
             ]
            ],
            "type": "heatmap"
           }
          ],
          "heatmapgl": [
           {
            "colorbar": {
             "outlinewidth": 0,
             "ticks": ""
            },
            "colorscale": [
             [
              0,
              "#0d0887"
             ],
             [
              0.1111111111111111,
              "#46039f"
             ],
             [
              0.2222222222222222,
              "#7201a8"
             ],
             [
              0.3333333333333333,
              "#9c179e"
             ],
             [
              0.4444444444444444,
              "#bd3786"
             ],
             [
              0.5555555555555556,
              "#d8576b"
             ],
             [
              0.6666666666666666,
              "#ed7953"
             ],
             [
              0.7777777777777778,
              "#fb9f3a"
             ],
             [
              0.8888888888888888,
              "#fdca26"
             ],
             [
              1,
              "#f0f921"
             ]
            ],
            "type": "heatmapgl"
           }
          ],
          "histogram": [
           {
            "marker": {
             "pattern": {
              "fillmode": "overlay",
              "size": 10,
              "solidity": 0.2
             }
            },
            "type": "histogram"
           }
          ],
          "histogram2d": [
           {
            "colorbar": {
             "outlinewidth": 0,
             "ticks": ""
            },
            "colorscale": [
             [
              0,
              "#0d0887"
             ],
             [
              0.1111111111111111,
              "#46039f"
             ],
             [
              0.2222222222222222,
              "#7201a8"
             ],
             [
              0.3333333333333333,
              "#9c179e"
             ],
             [
              0.4444444444444444,
              "#bd3786"
             ],
             [
              0.5555555555555556,
              "#d8576b"
             ],
             [
              0.6666666666666666,
              "#ed7953"
             ],
             [
              0.7777777777777778,
              "#fb9f3a"
             ],
             [
              0.8888888888888888,
              "#fdca26"
             ],
             [
              1,
              "#f0f921"
             ]
            ],
            "type": "histogram2d"
           }
          ],
          "histogram2dcontour": [
           {
            "colorbar": {
             "outlinewidth": 0,
             "ticks": ""
            },
            "colorscale": [
             [
              0,
              "#0d0887"
             ],
             [
              0.1111111111111111,
              "#46039f"
             ],
             [
              0.2222222222222222,
              "#7201a8"
             ],
             [
              0.3333333333333333,
              "#9c179e"
             ],
             [
              0.4444444444444444,
              "#bd3786"
             ],
             [
              0.5555555555555556,
              "#d8576b"
             ],
             [
              0.6666666666666666,
              "#ed7953"
             ],
             [
              0.7777777777777778,
              "#fb9f3a"
             ],
             [
              0.8888888888888888,
              "#fdca26"
             ],
             [
              1,
              "#f0f921"
             ]
            ],
            "type": "histogram2dcontour"
           }
          ],
          "mesh3d": [
           {
            "colorbar": {
             "outlinewidth": 0,
             "ticks": ""
            },
            "type": "mesh3d"
           }
          ],
          "parcoords": [
           {
            "line": {
             "colorbar": {
              "outlinewidth": 0,
              "ticks": ""
             }
            },
            "type": "parcoords"
           }
          ],
          "pie": [
           {
            "automargin": true,
            "type": "pie"
           }
          ],
          "scatter": [
           {
            "fillpattern": {
             "fillmode": "overlay",
             "size": 10,
             "solidity": 0.2
            },
            "type": "scatter"
           }
          ],
          "scatter3d": [
           {
            "line": {
             "colorbar": {
              "outlinewidth": 0,
              "ticks": ""
             }
            },
            "marker": {
             "colorbar": {
              "outlinewidth": 0,
              "ticks": ""
             }
            },
            "type": "scatter3d"
           }
          ],
          "scattercarpet": [
           {
            "marker": {
             "colorbar": {
              "outlinewidth": 0,
              "ticks": ""
             }
            },
            "type": "scattercarpet"
           }
          ],
          "scattergeo": [
           {
            "marker": {
             "colorbar": {
              "outlinewidth": 0,
              "ticks": ""
             }
            },
            "type": "scattergeo"
           }
          ],
          "scattergl": [
           {
            "marker": {
             "colorbar": {
              "outlinewidth": 0,
              "ticks": ""
             }
            },
            "type": "scattergl"
           }
          ],
          "scattermapbox": [
           {
            "marker": {
             "colorbar": {
              "outlinewidth": 0,
              "ticks": ""
             }
            },
            "type": "scattermapbox"
           }
          ],
          "scatterpolar": [
           {
            "marker": {
             "colorbar": {
              "outlinewidth": 0,
              "ticks": ""
             }
            },
            "type": "scatterpolar"
           }
          ],
          "scatterpolargl": [
           {
            "marker": {
             "colorbar": {
              "outlinewidth": 0,
              "ticks": ""
             }
            },
            "type": "scatterpolargl"
           }
          ],
          "scatterternary": [
           {
            "marker": {
             "colorbar": {
              "outlinewidth": 0,
              "ticks": ""
             }
            },
            "type": "scatterternary"
           }
          ],
          "surface": [
           {
            "colorbar": {
             "outlinewidth": 0,
             "ticks": ""
            },
            "colorscale": [
             [
              0,
              "#0d0887"
             ],
             [
              0.1111111111111111,
              "#46039f"
             ],
             [
              0.2222222222222222,
              "#7201a8"
             ],
             [
              0.3333333333333333,
              "#9c179e"
             ],
             [
              0.4444444444444444,
              "#bd3786"
             ],
             [
              0.5555555555555556,
              "#d8576b"
             ],
             [
              0.6666666666666666,
              "#ed7953"
             ],
             [
              0.7777777777777778,
              "#fb9f3a"
             ],
             [
              0.8888888888888888,
              "#fdca26"
             ],
             [
              1,
              "#f0f921"
             ]
            ],
            "type": "surface"
           }
          ],
          "table": [
           {
            "cells": {
             "fill": {
              "color": "#EBF0F8"
             },
             "line": {
              "color": "white"
             }
            },
            "header": {
             "fill": {
              "color": "#C8D4E3"
             },
             "line": {
              "color": "white"
             }
            },
            "type": "table"
           }
          ]
         },
         "layout": {
          "annotationdefaults": {
           "arrowcolor": "#2a3f5f",
           "arrowhead": 0,
           "arrowwidth": 1
          },
          "autotypenumbers": "strict",
          "coloraxis": {
           "colorbar": {
            "outlinewidth": 0,
            "ticks": ""
           }
          },
          "colorscale": {
           "diverging": [
            [
             0,
             "#8e0152"
            ],
            [
             0.1,
             "#c51b7d"
            ],
            [
             0.2,
             "#de77ae"
            ],
            [
             0.3,
             "#f1b6da"
            ],
            [
             0.4,
             "#fde0ef"
            ],
            [
             0.5,
             "#f7f7f7"
            ],
            [
             0.6,
             "#e6f5d0"
            ],
            [
             0.7,
             "#b8e186"
            ],
            [
             0.8,
             "#7fbc41"
            ],
            [
             0.9,
             "#4d9221"
            ],
            [
             1,
             "#276419"
            ]
           ],
           "sequential": [
            [
             0,
             "#0d0887"
            ],
            [
             0.1111111111111111,
             "#46039f"
            ],
            [
             0.2222222222222222,
             "#7201a8"
            ],
            [
             0.3333333333333333,
             "#9c179e"
            ],
            [
             0.4444444444444444,
             "#bd3786"
            ],
            [
             0.5555555555555556,
             "#d8576b"
            ],
            [
             0.6666666666666666,
             "#ed7953"
            ],
            [
             0.7777777777777778,
             "#fb9f3a"
            ],
            [
             0.8888888888888888,
             "#fdca26"
            ],
            [
             1,
             "#f0f921"
            ]
           ],
           "sequentialminus": [
            [
             0,
             "#0d0887"
            ],
            [
             0.1111111111111111,
             "#46039f"
            ],
            [
             0.2222222222222222,
             "#7201a8"
            ],
            [
             0.3333333333333333,
             "#9c179e"
            ],
            [
             0.4444444444444444,
             "#bd3786"
            ],
            [
             0.5555555555555556,
             "#d8576b"
            ],
            [
             0.6666666666666666,
             "#ed7953"
            ],
            [
             0.7777777777777778,
             "#fb9f3a"
            ],
            [
             0.8888888888888888,
             "#fdca26"
            ],
            [
             1,
             "#f0f921"
            ]
           ]
          },
          "colorway": [
           "#636efa",
           "#EF553B",
           "#00cc96",
           "#ab63fa",
           "#FFA15A",
           "#19d3f3",
           "#FF6692",
           "#B6E880",
           "#FF97FF",
           "#FECB52"
          ],
          "font": {
           "color": "#2a3f5f"
          },
          "geo": {
           "bgcolor": "white",
           "lakecolor": "white",
           "landcolor": "#E5ECF6",
           "showlakes": true,
           "showland": true,
           "subunitcolor": "white"
          },
          "hoverlabel": {
           "align": "left"
          },
          "hovermode": "closest",
          "mapbox": {
           "style": "light"
          },
          "paper_bgcolor": "white",
          "plot_bgcolor": "#E5ECF6",
          "polar": {
           "angularaxis": {
            "gridcolor": "white",
            "linecolor": "white",
            "ticks": ""
           },
           "bgcolor": "#E5ECF6",
           "radialaxis": {
            "gridcolor": "white",
            "linecolor": "white",
            "ticks": ""
           }
          },
          "scene": {
           "xaxis": {
            "backgroundcolor": "#E5ECF6",
            "gridcolor": "white",
            "gridwidth": 2,
            "linecolor": "white",
            "showbackground": true,
            "ticks": "",
            "zerolinecolor": "white"
           },
           "yaxis": {
            "backgroundcolor": "#E5ECF6",
            "gridcolor": "white",
            "gridwidth": 2,
            "linecolor": "white",
            "showbackground": true,
            "ticks": "",
            "zerolinecolor": "white"
           },
           "zaxis": {
            "backgroundcolor": "#E5ECF6",
            "gridcolor": "white",
            "gridwidth": 2,
            "linecolor": "white",
            "showbackground": true,
            "ticks": "",
            "zerolinecolor": "white"
           }
          },
          "shapedefaults": {
           "line": {
            "color": "#2a3f5f"
           }
          },
          "ternary": {
           "aaxis": {
            "gridcolor": "white",
            "linecolor": "white",
            "ticks": ""
           },
           "baxis": {
            "gridcolor": "white",
            "linecolor": "white",
            "ticks": ""
           },
           "bgcolor": "#E5ECF6",
           "caxis": {
            "gridcolor": "white",
            "linecolor": "white",
            "ticks": ""
           }
          },
          "title": {
           "x": 0.05
          },
          "xaxis": {
           "automargin": true,
           "gridcolor": "white",
           "linecolor": "white",
           "ticks": "",
           "title": {
            "standoff": 15
           },
           "zerolinecolor": "white",
           "zerolinewidth": 2
          },
          "yaxis": {
           "automargin": true,
           "gridcolor": "white",
           "linecolor": "white",
           "ticks": "",
           "title": {
            "standoff": 15
           },
           "zerolinecolor": "white",
           "zerolinewidth": 2
          }
         }
        },
        "width": 700,
        "xaxis": {
         "autorange": true,
         "categoryarray": [
          "Lamatrak",
          "Ultia",
          "KiddyFR",
          "Drakony",
          "MoMaN",
          "AntoineDaniel",
          "Hermanel",
          "jungo_live",
          "Diabalzane",
          "hortyunderscore",
          "Alexclick",
          "KAOsvmd",
          "Berlu",
          "BagheraJones",
          "Ponce",
          "Tonton",
          "Hexakil"
         ],
         "categoryorder": "array",
         "range": [
          -0.5,
          16.5
         ],
         "type": "category"
        },
        "yaxis": {
         "autorange": true,
         "categoryarray": [
          "Lamatrak",
          "Ultia",
          "KiddyFR",
          "Drakony",
          "MoMaN",
          "AntoineDaniel",
          "Hermanel",
          "jungo_live",
          "Diabalzane",
          "hortyunderscore",
          "Alexclick",
          "KAOsvmd",
          "Berlu",
          "BagheraJones",
          "Ponce",
          "Tonton",
          "Hexakil"
         ],
         "categoryorder": "array",
         "range": [
          -0.5,
          16.5
         ],
         "type": "category"
        }
       }
      },
      "image/png": "[encoded data removed]",
      "text/html": [
       "<div>                            <div id=\"ed32cb41-1fbb-48fb-9e33-6ff0547bd4b3\" class=\"plotly-graph-div\" style=\"height:700px; width:700px;\"></div>            <script type=\"text/javascript\">                require([\"plotly\"], function(Plotly) {                    window.PLOTLYENV=window.PLOTLYENV || {};                                    if (document.getElementById(\"ed32cb41-1fbb-48fb-9e33-6ff0547bd4b3\")) {                    Plotly.newPlot(                        \"ed32cb41-1fbb-48fb-9e33-6ff0547bd4b3\",                        [{\"colorbar\":{\"orientation\":\"h\"},\"colorscale\":[[0.0,\"#440154\"],[0.1111111111111111,\"#482878\"],[0.2222222222222222,\"#3e4989\"],[0.3333333333333333,\"#31688e\"],[0.4444444444444444,\"#26828e\"],[0.5555555555555556,\"#1f9e89\"],[0.6666666666666666,\"#35b779\"],[0.7777777777777778,\"#6ece58\"],[0.8888888888888888,\"#b5de2b\"],[1.0,\"#fde725\"]],\"hovertemplate\":\"<i>from: </i>%{x}<br><i>to: </i> %{y}<br><i>commentators:</i> %{z}<extra></extra>\",\"x\":[\"Lamatrak\",\"Ultia\",\"KiddyFR\",\"Drakony\",\"MoMaN\",\"AntoineDaniel\",\"Hermanel\",\"jungo_live\",\"Diabalzane\",\"hortyunderscore\",\"Alexclick\",\"KAOsvmd\",\"Berlu\",\"BagheraJones\",\"Ponce\",\"Tonton\",\"Hexakil\"],\"y\":[\"Lamatrak\",\"Ultia\",\"KiddyFR\",\"Drakony\",\"MoMaN\",\"AntoineDaniel\",\"Hermanel\",\"jungo_live\",\"Diabalzane\",\"hortyunderscore\",\"Alexclick\",\"KAOsvmd\",\"Berlu\",\"BagheraJones\",\"Ponce\",\"Tonton\",\"Hexakil\"],\"z\":[[0,66,17,37,20,183,6,3,10,18,37,0,18,79,411,19,7],[66,0,13,65,32,234,12,4,23,48,80,2,36,141,303,25,3],[17,13,0,6,5,61,2,1,6,11,8,0,7,27,39,6,6],[37,65,6,0,65,166,54,19,42,31,492,6,93,148,200,118,11],[20,32,5,65,0,120,36,17,41,24,104,1,160,74,99,40,10],[183,234,61,166,120,0,46,15,67,217,278,6,194,791,1316,117,20],[6,12,2,54,36,46,0,21,17,5,82,1,63,20,30,40,5],[3,4,1,19,17,15,21,0,13,4,17,0,41,11,12,4,2],[10,23,6,42,41,67,17,13,0,26,42,1,119,50,51,19,5],[18,48,11,31,24,217,5,4,26,0,40,2,32,317,136,12,7],[37,80,8,492,104,278,82,17,42,40,0,4,155,159,346,177,6],[0,2,0,6,1,6,1,0,1,2,4,0,0,3,3,9,1],[18,36,7,93,160,194,63,41,119,32,155,0,0,95,174,70,5],[79,141,27,148,74,791,20,11,50,317,159,3,95,0,493,58,9],[411,303,39,200,99,1316,30,12,51,136,346,3,174,493,0,168,14],[19,25,6,118,40,117,40,4,19,12,177,9,70,58,168,0,8],[7,3,6,11,10,20,5,2,5,7,6,1,5,9,14,8,0]],\"type\":\"heatmap\"}],                        {\"template\":{\"data\":{\"histogram2dcontour\":[{\"type\":\"histogram2dcontour\",\"colorbar\":{\"outlinewidth\":0,\"ticks\":\"\"},\"colorscale\":[[0.0,\"#0d0887\"],[0.1111111111111111,\"#46039f\"],[0.2222222222222222,\"#7201a8\"],[0.3333333333333333,\"#9c179e\"],[0.4444444444444444,\"#bd3786\"],[0.5555555555555556,\"#d8576b\"],[0.6666666666666666,\"#ed7953\"],[0.7777777777777778,\"#fb9f3a\"],[0.8888888888888888,\"#fdca26\"],[1.0,\"#f0f921\"]]}],\"choropleth\":[{\"type\":\"choropleth\",\"colorbar\":{\"outlinewidth\":0,\"ticks\":\"\"}}],\"histogram2d\":[{\"type\":\"histogram2d\",\"colorbar\":{\"outlinewidth\":0,\"ticks\":\"\"},\"colorscale\":[[0.0,\"#0d0887\"],[0.1111111111111111,\"#46039f\"],[0.2222222222222222,\"#7201a8\"],[0.3333333333333333,\"#9c179e\"],[0.4444444444444444,\"#bd3786\"],[0.5555555555555556,\"#d8576b\"],[0.6666666666666666,\"#ed7953\"],[0.7777777777777778,\"#fb9f3a\"],[0.8888888888888888,\"#fdca26\"],[1.0,\"#f0f921\"]]}],\"heatmap\":[{\"type\":\"heatmap\",\"colorbar\":{\"outlinewidth\":0,\"ticks\":\"\"},\"colorscale\":[[0.0,\"#0d0887\"],[0.1111111111111111,\"#46039f\"],[0.2222222222222222,\"#7201a8\"],[0.3333333333333333,\"#9c179e\"],[0.4444444444444444,\"#bd3786\"],[0.5555555555555556,\"#d8576b\"],[0.6666666666666666,\"#ed7953\"],[0.7777777777777778,\"#fb9f3a\"],[0.8888888888888888,\"#fdca26\"],[1.0,\"#f0f921\"]]}],\"heatmapgl\":[{\"type\":\"heatmapgl\",\"colorbar\":{\"outlinewidth\":0,\"ticks\":\"\"},\"colorscale\":[[0.0,\"#0d0887\"],[0.1111111111111111,\"#46039f\"],[0.2222222222222222,\"#7201a8\"],[0.3333333333333333,\"#9c179e\"],[0.4444444444444444,\"#bd3786\"],[0.5555555555555556,\"#d8576b\"],[0.6666666666666666,\"#ed7953\"],[0.7777777777777778,\"#fb9f3a\"],[0.8888888888888888,\"#fdca26\"],[1.0,\"#f0f921\"]]}],\"contourcarpet\":[{\"type\":\"contourcarpet\",\"colorbar\":{\"outlinewidth\":0,\"ticks\":\"\"}}],\"contour\":[{\"type\":\"contour\",\"colorbar\":{\"outlinewidth\":0,\"ticks\":\"\"},\"colorscale\":[[0.0,\"#0d0887\"],[0.1111111111111111,\"#46039f\"],[0.2222222222222222,\"#7201a8\"],[0.3333333333333333,\"#9c179e\"],[0.4444444444444444,\"#bd3786\"],[0.5555555555555556,\"#d8576b\"],[0.6666666666666666,\"#ed7953\"],[0.7777777777777778,\"#fb9f3a\"],[0.8888888888888888,\"#fdca26\"],[1.0,\"#f0f921\"]]}],\"surface\":[{\"type\":\"surface\",\"colorbar\":{\"outlinewidth\":0,\"ticks\":\"\"},\"colorscale\":[[0.0,\"#0d0887\"],[0.1111111111111111,\"#46039f\"],[0.2222222222222222,\"#7201a8\"],[0.3333333333333333,\"#9c179e\"],[0.4444444444444444,\"#bd3786\"],[0.5555555555555556,\"#d8576b\"],[0.6666666666666666,\"#ed7953\"],[0.7777777777777778,\"#fb9f3a\"],[0.8888888888888888,\"#fdca26\"],[1.0,\"#f0f921\"]]}],\"mesh3d\":[{\"type\":\"mesh3d\",\"colorbar\":{\"outlinewidth\":0,\"ticks\":\"\"}}],\"scatter\":[{\"fillpattern\":{\"fillmode\":\"overlay\",\"size\":10,\"solidity\":0.2},\"type\":\"scatter\"}],\"parcoords\":[{\"type\":\"parcoords\",\"line\":{\"colorbar\":{\"outlinewidth\":0,\"ticks\":\"\"}}}],\"scatterpolargl\":[{\"type\":\"scatterpolargl\",\"marker\":{\"colorbar\":{\"outlinewidth\":0,\"ticks\":\"\"}}}],\"bar\":[{\"error_x\":{\"color\":\"#2a3f5f\"},\"error_y\":{\"color\":\"#2a3f5f\"},\"marker\":{\"line\":{\"color\":\"#E5ECF6\",\"width\":0.5},\"pattern\":{\"fillmode\":\"overlay\",\"size\":10,\"solidity\":0.2}},\"type\":\"bar\"}],\"scattergeo\":[{\"type\":\"scattergeo\",\"marker\":{\"colorbar\":{\"outlinewidth\":0,\"ticks\":\"\"}}}],\"scatterpolar\":[{\"type\":\"scatterpolar\",\"marker\":{\"colorbar\":{\"outlinewidth\":0,\"ticks\":\"\"}}}],\"histogram\":[{\"marker\":{\"pattern\":{\"fillmode\":\"overlay\",\"size\":10,\"solidity\":0.2}},\"type\":\"histogram\"}],\"scattergl\":[{\"type\":\"scattergl\",\"marker\":{\"colorbar\":{\"outlinewidth\":0,\"ticks\":\"\"}}}],\"scatter3d\":[{\"type\":\"scatter3d\",\"line\":{\"colorbar\":{\"outlinewidth\":0,\"ticks\":\"\"}},\"marker\":{\"colorbar\":{\"outlinewidth\":0,\"ticks\":\"\"}}}],\"scattermapbox\":[{\"type\":\"scattermapbox\",\"marker\":{\"colorbar\":{\"outlinewidth\":0,\"ticks\":\"\"}}}],\"scatterternary\":[{\"type\":\"scatterternary\",\"marker\":{\"colorbar\":{\"outlinewidth\":0,\"ticks\":\"\"}}}],\"scattercarpet\":[{\"type\":\"scattercarpet\",\"marker\":{\"colorbar\":{\"outlinewidth\":0,\"ticks\":\"\"}}}],\"carpet\":[{\"aaxis\":{\"endlinecolor\":\"#2a3f5f\",\"gridcolor\":\"white\",\"linecolor\":\"white\",\"minorgridcolor\":\"white\",\"startlinecolor\":\"#2a3f5f\"},\"baxis\":{\"endlinecolor\":\"#2a3f5f\",\"gridcolor\":\"white\",\"linecolor\":\"white\",\"minorgridcolor\":\"white\",\"startlinecolor\":\"#2a3f5f\"},\"type\":\"carpet\"}],\"table\":[{\"cells\":{\"fill\":{\"color\":\"#EBF0F8\"},\"line\":{\"color\":\"white\"}},\"header\":{\"fill\":{\"color\":\"#C8D4E3\"},\"line\":{\"color\":\"white\"}},\"type\":\"table\"}],\"barpolar\":[{\"marker\":{\"line\":{\"color\":\"#E5ECF6\",\"width\":0.5},\"pattern\":{\"fillmode\":\"overlay\",\"size\":10,\"solidity\":0.2}},\"type\":\"barpolar\"}],\"pie\":[{\"automargin\":true,\"type\":\"pie\"}]},\"layout\":{\"autotypenumbers\":\"strict\",\"colorway\":[\"#636efa\",\"#EF553B\",\"#00cc96\",\"#ab63fa\",\"#FFA15A\",\"#19d3f3\",\"#FF6692\",\"#B6E880\",\"#FF97FF\",\"#FECB52\"],\"font\":{\"color\":\"#2a3f5f\"},\"hovermode\":\"closest\",\"hoverlabel\":{\"align\":\"left\"},\"paper_bgcolor\":\"white\",\"plot_bgcolor\":\"#E5ECF6\",\"polar\":{\"bgcolor\":\"#E5ECF6\",\"angularaxis\":{\"gridcolor\":\"white\",\"linecolor\":\"white\",\"ticks\":\"\"},\"radialaxis\":{\"gridcolor\":\"white\",\"linecolor\":\"white\",\"ticks\":\"\"}},\"ternary\":{\"bgcolor\":\"#E5ECF6\",\"aaxis\":{\"gridcolor\":\"white\",\"linecolor\":\"white\",\"ticks\":\"\"},\"baxis\":{\"gridcolor\":\"white\",\"linecolor\":\"white\",\"ticks\":\"\"},\"caxis\":{\"gridcolor\":\"white\",\"linecolor\":\"white\",\"ticks\":\"\"}},\"coloraxis\":{\"colorbar\":{\"outlinewidth\":0,\"ticks\":\"\"}},\"colorscale\":{\"sequential\":[[0.0,\"#0d0887\"],[0.1111111111111111,\"#46039f\"],[0.2222222222222222,\"#7201a8\"],[0.3333333333333333,\"#9c179e\"],[0.4444444444444444,\"#bd3786\"],[0.5555555555555556,\"#d8576b\"],[0.6666666666666666,\"#ed7953\"],[0.7777777777777778,\"#fb9f3a\"],[0.8888888888888888,\"#fdca26\"],[1.0,\"#f0f921\"]],\"sequentialminus\":[[0.0,\"#0d0887\"],[0.1111111111111111,\"#46039f\"],[0.2222222222222222,\"#7201a8\"],[0.3333333333333333,\"#9c179e\"],[0.4444444444444444,\"#bd3786\"],[0.5555555555555556,\"#d8576b\"],[0.6666666666666666,\"#ed7953\"],[0.7777777777777778,\"#fb9f3a\"],[0.8888888888888888,\"#fdca26\"],[1.0,\"#f0f921\"]],\"diverging\":[[0,\"#8e0152\"],[0.1,\"#c51b7d\"],[0.2,\"#de77ae\"],[0.3,\"#f1b6da\"],[0.4,\"#fde0ef\"],[0.5,\"#f7f7f7\"],[0.6,\"#e6f5d0\"],[0.7,\"#b8e186\"],[0.8,\"#7fbc41\"],[0.9,\"#4d9221\"],[1,\"#276419\"]]},\"xaxis\":{\"gridcolor\":\"white\",\"linecolor\":\"white\",\"ticks\":\"\",\"title\":{\"standoff\":15},\"zerolinecolor\":\"white\",\"automargin\":true,\"zerolinewidth\":2},\"yaxis\":{\"gridcolor\":\"white\",\"linecolor\":\"white\",\"ticks\":\"\",\"title\":{\"standoff\":15},\"zerolinecolor\":\"white\",\"automargin\":true,\"zerolinewidth\":2},\"scene\":{\"xaxis\":{\"backgroundcolor\":\"#E5ECF6\",\"gridcolor\":\"white\",\"linecolor\":\"white\",\"showbackground\":true,\"ticks\":\"\",\"zerolinecolor\":\"white\",\"gridwidth\":2},\"yaxis\":{\"backgroundcolor\":\"#E5ECF6\",\"gridcolor\":\"white\",\"linecolor\":\"white\",\"showbackground\":true,\"ticks\":\"\",\"zerolinecolor\":\"white\",\"gridwidth\":2},\"zaxis\":{\"backgroundcolor\":\"#E5ECF6\",\"gridcolor\":\"white\",\"linecolor\":\"white\",\"showbackground\":true,\"ticks\":\"\",\"zerolinecolor\":\"white\",\"gridwidth\":2}},\"shapedefaults\":{\"line\":{\"color\":\"#2a3f5f\"}},\"annotationdefaults\":{\"arrowcolor\":\"#2a3f5f\",\"arrowhead\":0,\"arrowwidth\":1},\"geo\":{\"bgcolor\":\"white\",\"landcolor\":\"#E5ECF6\",\"subunitcolor\":\"white\",\"showland\":true,\"showlakes\":true,\"lakecolor\":\"white\"},\"title\":{\"x\":0.05},\"mapbox\":{\"style\":\"light\"}}},\"width\":700,\"height\":700,\"xaxis\":{\"categoryarray\":[\"Lamatrak\",\"Ultia\",\"KiddyFR\",\"Drakony\",\"MoMaN\",\"AntoineDaniel\",\"Hermanel\",\"jungo_live\",\"Diabalzane\",\"hortyunderscore\",\"Alexclick\",\"KAOsvmd\",\"Berlu\",\"BagheraJones\",\"Ponce\",\"Tonton\",\"Hexakil\"],\"categoryorder\":\"array\"},\"yaxis\":{\"categoryarray\":[\"Lamatrak\",\"Ultia\",\"KiddyFR\",\"Drakony\",\"MoMaN\",\"AntoineDaniel\",\"Hermanel\",\"jungo_live\",\"Diabalzane\",\"hortyunderscore\",\"Alexclick\",\"KAOsvmd\",\"Berlu\",\"BagheraJones\",\"Ponce\",\"Tonton\",\"Hexakil\"],\"categoryorder\":\"array\"},\"hoverlabel\":{\"align\":\"left\"}},                        {\"responsive\": true}                    ).then(function(){\n",
       "                            \n",
       "var gd = document.getElementById('ed32cb41-1fbb-48fb-9e33-6ff0547bd4b3');\n",
       "var x = new MutationObserver(function (mutations, observer) {{\n",
       "        var display = window.getComputedStyle(gd).display;\n",
       "        if (!display || display === 'none') {{\n",
       "            console.log([gd, 'removed!']);\n",
       "            Plotly.purge(gd);\n",
       "            observer.disconnect();\n",
       "        }}\n",
       "}});\n",
       "\n",
       "// Listen for the removal of the full notebook cells\n",
       "var notebookContainer = gd.closest('#notebook-container');\n",
       "if (notebookContainer) {{\n",
       "    x.observe(notebookContainer, {childList: true});\n",
       "}}\n",
       "\n",
       "// Listen for the clearing of the current output cell\n",
       "var outputEl = gd.closest('.output');\n",
       "if (outputEl) {{\n",
       "    x.observe(outputEl, {childList: true});\n",
       "}}\n",
       "\n",
       "                        })                };                });            </script>        </div>"
      ]
     },
     "metadata": {},
     "output_type": "display_data"
    }
   ],
   "source": [
    "import plotly.graph_objects as go\n",
    "dataset = [heatmap_data[index] for index in streamerz]\n",
    "\n",
    "fig = go.Figure()\n",
    "fig.update_layout(width=700, height=700)\n",
    "fig.update_xaxes(categoryarray=list(streamerz), categoryorder=\"array\")\n",
    "fig.update_yaxes(categoryarray=streamerz, categoryorder=\"array\")\n",
    "\n",
    "fig.add_trace(go.Heatmap(\n",
    "    z=dataset,\n",
    "    colorbar=dict(orientation='h'),\n",
    "    colorscale=\"Viridis\",\n",
    "    x=streamerz,\n",
    "    y=streamerz,\n",
    "    hovertemplate = '<i>from: </i>%{x}' + '<br><i>to: </i> %{y}<br>' + '<i>commentators:</i> %{z}<extra></extra>'\n",
    "))\n",
    "fig.update_layout(hoverlabel_align = 'left')\n",
    "\n",
    "fig.show()"
   ]
  }
 ],
 "metadata": {
  "kernelspec": {
   "display_name": "Python 3 (ipykernel)",
   "language": "python",
   "name": "python3"
  },
  "language_info": {
   "codemirror_mode": {
    "name": "ipython",
    "version": 3
   },
   "file_extension": ".py",
   "mimetype": "text/x-python",
   "name": "python",
   "nbconvert_exporter": "python",
   "pygments_lexer": "ipython3",
   "version": "3.8.10"
  }
 },
 "nbformat": 4,
 "nbformat_minor": 5
}
